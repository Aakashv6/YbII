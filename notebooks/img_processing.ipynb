{
 "cells": [
  {
   "cell_type": "code",
   "execution_count": 1,
   "metadata": {},
   "outputs": [
    {
     "name": "stdout",
     "output_type": "stream",
     "text": [
      "c:\\Users\\YbII Diamondback\\Documents\\YbII\n"
     ]
    }
   ],
   "source": [
    "%cd .."
   ]
  },
  {
   "cell_type": "code",
   "execution_count": 2,
   "metadata": {},
   "outputs": [],
   "source": [
    "import numpy as np\n",
    "import matplotlib.pyplot as plt\n",
    "\n",
    "# Fitting Module\n",
    "import lmfit\n",
    "from lmfit.models import gaussian2d\n",
    "\n",
    "# Image Processing Module\n",
    "import imageio\n",
    "import matplotlib.pyplot as plt\n",
    "import scipy.ndimage as ndi\n",
    "\n",
    "from src.functions.math import func as mathf\n",
    "from src.functions.optics import func as optf\n",
    "from src.constants import const"
   ]
  },
  {
   "cell_type": "code",
   "execution_count": null,
   "metadata": {},
   "outputs": [],
   "source": [
    "def tot_int(img):\n",
    "    return np.sum(img)\n",
    "\n",
    "def subgrid(img, x, y, size):\n",
    "    return img[y-size:y+size, x-size:x+size]\n",
    "\n",
    "# Function to calculate the dark count of the camera after Background Subtraction\n",
    "# Inputs-\n",
    "# img: Image after Background Subtraction\n",
    "# size: Size of the Subgrid for the dark count calculation\n",
    "def dark_count(img, size=100):\n",
    "    for i in range(size, img.shape[0]-size, size):\n",
    "        for j in range(size, img.shape[1]-size, size):\n",
    "            sub_img = subgrid(img, x, y, size)\n",
    "            img[i-size:i+size, j-size:j+size] = 0\n",
    "    return np.mean(subgrid(img, 0, 0, size))\n"
   ]
  }
 ],
 "metadata": {
  "kernelspec": {
   "display_name": "Python 3",
   "language": "python",
   "name": "python3"
  },
  "language_info": {
   "codemirror_mode": {
    "name": "ipython",
    "version": 3
   },
   "file_extension": ".py",
   "mimetype": "text/x-python",
   "name": "python",
   "nbconvert_exporter": "python",
   "pygments_lexer": "ipython3",
   "version": "3.11.8"
  }
 },
 "nbformat": 4,
 "nbformat_minor": 2
}
