{
 "cells": [
  {
   "cell_type": "code",
   "execution_count": 3,
   "metadata": {},
   "outputs": [
    {
     "name": "stdout",
     "output_type": "stream",
     "text": [
      "e:\\ybii\\github\\YbII\n"
     ]
    },
    {
     "name": "stderr",
     "output_type": "stream",
     "text": [
      "c:\\Users\\YbII Diamondback\\AppData\\Local\\Programs\\Python\\Python311\\Lib\\site-packages\\IPython\\core\\magics\\osm.py:417: UserWarning: This is now an optional IPython functionality, setting dhist requires you to install the `pickleshare` library.\n",
      "  self.shell.db['dhist'] = compress_dhist(dhist)[-100:]\n"
     ]
    }
   ],
   "source": [
    "%cd .."
   ]
  },
  {
   "cell_type": "code",
   "execution_count": 3,
   "metadata": {},
   "outputs": [],
   "source": [
    "import numpy as np\n",
    "import matplotlib.pyplot as plt\n",
    "\n",
    "# Fitting Module\n",
    "import lmfit\n",
    "from lmfit.models import gaussian2d\n",
    "\n",
    "# Image Processing Module\n",
    "import imageio\n",
    "import matplotlib.pyplot as plt\n",
    "\n",
    "from src.functions.math import func as mathf\n",
    "from src.functions.optics import func as optf\n",
    "from src.constants import const"
   ]
  },
  {
   "cell_type": "code",
   "execution_count": 4,
   "metadata": {},
   "outputs": [],
   "source": [
    "# p is the measured power per beam before any VP, w1 and w2 are the beam waist radii\n",
    "# s0 = 2 * (I_0 * T + I_0 * T ** 3) / I_sat\n",
    "def getS0(p, w1=0.329e-2, w2=0.866e-2):\n",
    "    return 2 * p / np.pi / w1 / w2 * (0.915 + 0.915 ** 3) / const.Is_1s0_1p1\n",
    "\n",
    "# probability of the atom being in the excited state (from Eva Casotti's thesis)\n",
    "# f is frequency of the cooling beam\n",
    "# p is the measured power per beam before any VP\n",
    "def rho(f, p):\n",
    "    return getS0(p) / 2 / (1 + getS0(p) + (2 * (f - const.w0_1s0_1p1_32) / const.gamma_1s0_1p1) ** 2)\n",
    "\n",
    "# sum up the pixel values in the region of interest\n",
    "# x0, y0, wx, wy are the parameters of the Gaussian fit\n",
    "# img_res is the background-subtracted image data\n",
    "# f is frequency of the cooling beam\n",
    "# p is the measured power per beam before any VP\n",
    "# d0 is the image distance from the MOT to the first lens\n",
    "def getAtomNumber(x0, y0, wx, wy, img, t_exp, f, p, d0):\n",
    "    x0 = int(x0)\n",
    "    y0 = int(y0)\n",
    "    wx = int(wx)\n",
    "    wy = int(wy)\n",
    "    I_sum = np.sum(img[y0-wy:y0+wy, x0-wx:x0+wx])\n",
    "\n",
    "    ppi = 2800 / 0.46 / 255 # photon per pixel per intensity\n",
    "    eff = (0.0254/2) ** 2 / 4 / d0 ** 2 # collection efficiency of the imaging setup, assuming using 1 inch lens\n",
    "    gamma_tot = I_sum * ppi / eff / t_exp # total photon emission rate\n",
    "    gamma_atom = const.gamma_1s0_1p1 * rho(f, p) # photon emission rate of a single atom\n",
    "    print(rho(f, p))\n",
    "    return gamma_tot / gamma_atom\n",
    "\n",
    "# get the number of imaged atoms\n",
    "# img is the MOT image data, img_bg is the background image data\n",
    "# t_exp is the exposure time of the camera\n",
    "# f is frequency of the cooling beam\n",
    "# p is the measured power per beam before any VP\n",
    "def getImagedAtomNumber(img, img_bg, t_exp, f, p, d0):\n",
    "    x_rg = np.arange(0, img.shape[1])\n",
    "    y_rg = np.arange(0, img.shape[0])\n",
    "\n",
    "    # img_res = np.array(img, dtype=float) - np.array(img_bg, dtype=float)\n",
    "    img_res = np.vectorize(lambda x, y: 0 if x > y else y - x)(img_bg, img)\n",
    "\n",
    "    # img_res[img_res < 0] = 0\n",
    "    x_data = np.max(img_res, axis=0)\n",
    "    y_data = np.max(img_res, axis=1)\n",
    "    # x0 = 1600\n",
    "    # y0 = 1400\n",
    "    # x_data = img_res[y0, :]\n",
    "    # y_data = img_res[:, x0]\n",
    "\n",
    "    # also in /src/functions/math/func.py\n",
    "    def GaussianWBaseline(x, center, sigma, amplitude, c_c):\n",
    "        return amplitude * np.exp(-((x - center) ** 2) / (2 * sigma ** 2)) + c_c\n",
    "\n",
    "    model = lmfit.Model(GaussianWBaseline)\n",
    "\n",
    "    # adjust the initial parameters if needed\n",
    "    params_x = model.make_params(c_c=0, center=np.argmax(x_data), sigma=50, amplitude=np.max(x_data))\n",
    "    params_y = model.make_params(c_c=0, center=np.argmax(y_data), sigma=50, amplitude=np.max(y_data))\n",
    "\n",
    "    # Set constraints if needed\n",
    "    params_x['sigma'].set(max=100)\n",
    "    params_x['sigma'].set(min=50)\n",
    "    params_y['sigma'].set(max=100)\n",
    "    params_y['sigma'].set(min=50)\n",
    "    params_x['amplitude'].set(min=15)\n",
    "    params_y['amplitude'].set(min=0)\n",
    "    params_x['center'].set(min=1700)\n",
    "    params_x['center'].set(max=2400)\n",
    "    params_y['center'].set(min=1500)\n",
    "    params_y['center'].set(max=1800)\n",
    "    params_x['c_c'].set(max=20)\n",
    "    params_y['c_c'].set(max=20)\n",
    "\n",
    "    result_x = model.fit(x_data, params_x, x=x_rg)\n",
    "    result_y = model.fit(y_data, params_y, x=y_rg)\n",
    "\n",
    "    x_fit = result_x.best_fit\n",
    "    y_fit = result_y.best_fit\n",
    "\n",
    "    x0 = result_x.best_values['center']\n",
    "    y0 = result_y.best_values['center']\n",
    "    x0 = 1450\n",
    "    y0 = 1800\n",
    "\n",
    "    wx = 2 * result_x.best_values['sigma']\n",
    "    wy = 2 * result_y.best_values['sigma']\n",
    "    wx = 650\n",
    "    wy = 150\n",
    "\n",
    "    return img_res, x0, y0, wx, wy, x_data, x_fit, y_data, y_fit, getAtomNumber(x0, y0, wx, wy, img_res, t_exp, f, p, d0)\n",
    "\n",
    "# plot the image data along with the Gaussian fit and the atom number\n",
    "# img is the MOT image data, img_bg is the background image data\n",
    "# t_exp is the exposure time of the camera\n",
    "# df is the detuning from the Yb171 1S0 -> 1P1 transition in angular frequency units\n",
    "# p is the measured power per beam before any VP\n",
    "def plotMOTNumber(img, img_bg, t_exp, df, p, d0):\n",
    "    fig, axs = plt.subplots(1, 2, figsize=(10, 5))\n",
    "\n",
    "    x_rg = np.arange(0, img.shape[1])\n",
    "    y_rg = np.arange(0, img.shape[0])\n",
    "\n",
    "    img_res, x0, y0, wx, wy, x_data, x_fit, y_data, y_fit, atom_num = getImagedAtomNumber(img, img_bg, t_exp, df, p, d0)\n",
    "\n",
    "    axs[0].imshow(img_res, cmap='gray', vmin=0, vmax=255)\n",
    "\n",
    "    axs[0].set_xlim([0, img.shape[1]])\n",
    "    axs[0].set_ylim([0, img.shape[0]])\n",
    "    axs[0].set_xlabel('Pixel')\n",
    "    axs[0].set_ylabel('Pixel')\n",
    "\n",
    "    axs[0].hlines(y0-wy, x0-wx, x0+wx, color='b', linestyles='dashed')\n",
    "    axs[0].hlines(y0+wy, x0-wx, x0+wx, color='b', linestyles='dashed')\n",
    "    axs[0].vlines(x0-wx, y0-wy, y0+wy, color='r', linestyles='dashed')\n",
    "    axs[0].vlines(x0+wx, y0-wy, y0+wy, color='r', linestyles='dashed')\n",
    "\n",
    "    axs[1].scatter(x_rg, x_data)\n",
    "    # axs[1].plot(x_rg, x_fit, 'r', label='x Fit')\n",
    "    axs[1].scatter(y_rg, y_data)\n",
    "    # axs[1].plot(y_rg, y_fit, 'b', label='y Fit')\n",
    "    axs[1].vlines(x0-wx, 0, 100, color='r', linestyles='dashed', label='x bounds')\n",
    "    axs[1].vlines(x0+wx, 0, 100, color='r', linestyles='dashed')\n",
    "    axs[1].vlines(y0-wy, 0, 100, color='b', linestyles='dashed', label='y bounds')\n",
    "    axs[1].vlines(y0+wy, 0, 100, color='b', linestyles='dashed')\n",
    "    \n",
    "    axs[1].set_xlabel('Pixel')\n",
    "    axs[1].set_ylabel('Intensity')\n",
    "    axs[1].legend()\n",
    "\n",
    "    fig.suptitle('2D MOT #Atom ~ ' + str(int(round(atom_num, -4))))\n"
   ]
  },
  {
   "cell_type": "code",
   "execution_count": 5,
   "metadata": {},
   "outputs": [
    {
     "name": "stderr",
     "output_type": "stream",
     "text": [
      "C:\\Users\\User\\AppData\\Local\\Temp\\ipykernel_22176\\2938510000.py:1: DeprecationWarning: Starting with ImageIO v3 the behavior of this function will switch to that of iio.v3.imread. To keep the current behavior (and make this warning disappear) use `import imageio.v2 as imageio` or call `imageio.v2.imread` directly.\n",
      "  plotMOTNumber(imageio.imread('data/sample_image/sample_2DMOT/signal.bmp'), imageio.imread('data/sample_image/sample_2DMOT/background.bmp'), 17150e-6, 2 * np.pi * 751.5270397e12, 80e-3, 350e-3)\n"
     ]
    },
    {
     "ename": "FileNotFoundError",
     "evalue": "No such file: 'e:\\ybii\\github\\YbII\\data\\sample_image\\sample_2DMOT\\signal.bmp'",
     "output_type": "error",
     "traceback": [
      "\u001b[1;31m---------------------------------------------------------------------------\u001b[0m",
      "\u001b[1;31mFileNotFoundError\u001b[0m                         Traceback (most recent call last)",
      "Cell \u001b[1;32mIn[5], line 1\u001b[0m\n\u001b[1;32m----> 1\u001b[0m plotMOTNumber(\u001b[43mimageio\u001b[49m\u001b[38;5;241;43m.\u001b[39;49m\u001b[43mimread\u001b[49m\u001b[43m(\u001b[49m\u001b[38;5;124;43m'\u001b[39;49m\u001b[38;5;124;43mdata/sample_image/sample_2DMOT/signal.bmp\u001b[39;49m\u001b[38;5;124;43m'\u001b[39;49m\u001b[43m)\u001b[49m, imageio\u001b[38;5;241m.\u001b[39mimread(\u001b[38;5;124m'\u001b[39m\u001b[38;5;124mdata/sample_image/sample_2DMOT/background.bmp\u001b[39m\u001b[38;5;124m'\u001b[39m), \u001b[38;5;241m17150e-6\u001b[39m, \u001b[38;5;241m2\u001b[39m \u001b[38;5;241m*\u001b[39m np\u001b[38;5;241m.\u001b[39mpi \u001b[38;5;241m*\u001b[39m \u001b[38;5;241m751.5270397e12\u001b[39m, \u001b[38;5;241m80e-3\u001b[39m, \u001b[38;5;241m350e-3\u001b[39m)\n",
      "File \u001b[1;32mc:\\Users\\User\\miniconda3\\Lib\\site-packages\\imageio\\__init__.py:97\u001b[0m, in \u001b[0;36mimread\u001b[1;34m(uri, format, **kwargs)\u001b[0m\n\u001b[0;32m     68\u001b[0m \u001b[38;5;250m\u001b[39m\u001b[38;5;124;03m\"\"\"imread(uri, format=None, **kwargs)\u001b[39;00m\n\u001b[0;32m     69\u001b[0m \n\u001b[0;32m     70\u001b[0m \u001b[38;5;124;03mReads an image from the specified file. Returns a numpy array, which\u001b[39;00m\n\u001b[1;32m   (...)\u001b[0m\n\u001b[0;32m     86\u001b[0m \u001b[38;5;124;03m    to see what arguments are available for a particular format.\u001b[39;00m\n\u001b[0;32m     87\u001b[0m \u001b[38;5;124;03m\"\"\"\u001b[39;00m\n\u001b[0;32m     89\u001b[0m warnings\u001b[38;5;241m.\u001b[39mwarn(\n\u001b[0;32m     90\u001b[0m     \u001b[38;5;124m\"\u001b[39m\u001b[38;5;124mStarting with ImageIO v3 the behavior of this function will switch to that of\u001b[39m\u001b[38;5;124m\"\u001b[39m\n\u001b[0;32m     91\u001b[0m     \u001b[38;5;124m\"\u001b[39m\u001b[38;5;124m iio.v3.imread. To keep the current behavior (and make this warning disappear)\u001b[39m\u001b[38;5;124m\"\u001b[39m\n\u001b[1;32m   (...)\u001b[0m\n\u001b[0;32m     94\u001b[0m     stacklevel\u001b[38;5;241m=\u001b[39m\u001b[38;5;241m2\u001b[39m,\n\u001b[0;32m     95\u001b[0m )\n\u001b[1;32m---> 97\u001b[0m \u001b[38;5;28;01mreturn\u001b[39;00m \u001b[43mimread_v2\u001b[49m\u001b[43m(\u001b[49m\u001b[43muri\u001b[49m\u001b[43m,\u001b[49m\u001b[43m \u001b[49m\u001b[38;5;28;43mformat\u001b[39;49m\u001b[38;5;241;43m=\u001b[39;49m\u001b[38;5;28;43mformat\u001b[39;49m\u001b[43m,\u001b[49m\u001b[43m \u001b[49m\u001b[38;5;241;43m*\u001b[39;49m\u001b[38;5;241;43m*\u001b[39;49m\u001b[43mkwargs\u001b[49m\u001b[43m)\u001b[49m\n",
      "File \u001b[1;32mc:\\Users\\User\\miniconda3\\Lib\\site-packages\\imageio\\v2.py:359\u001b[0m, in \u001b[0;36mimread\u001b[1;34m(uri, format, **kwargs)\u001b[0m\n\u001b[0;32m    356\u001b[0m imopen_args \u001b[38;5;241m=\u001b[39m decypher_format_arg(\u001b[38;5;28mformat\u001b[39m)\n\u001b[0;32m    357\u001b[0m imopen_args[\u001b[38;5;124m\"\u001b[39m\u001b[38;5;124mlegacy_mode\u001b[39m\u001b[38;5;124m\"\u001b[39m] \u001b[38;5;241m=\u001b[39m \u001b[38;5;28;01mTrue\u001b[39;00m\n\u001b[1;32m--> 359\u001b[0m \u001b[38;5;28;01mwith\u001b[39;00m \u001b[43mimopen\u001b[49m\u001b[43m(\u001b[49m\u001b[43muri\u001b[49m\u001b[43m,\u001b[49m\u001b[43m \u001b[49m\u001b[38;5;124;43m\"\u001b[39;49m\u001b[38;5;124;43mri\u001b[39;49m\u001b[38;5;124;43m\"\u001b[39;49m\u001b[43m,\u001b[49m\u001b[43m \u001b[49m\u001b[38;5;241;43m*\u001b[39;49m\u001b[38;5;241;43m*\u001b[39;49m\u001b[43mimopen_args\u001b[49m\u001b[43m)\u001b[49m \u001b[38;5;28;01mas\u001b[39;00m file:\n\u001b[0;32m    360\u001b[0m     result \u001b[38;5;241m=\u001b[39m file\u001b[38;5;241m.\u001b[39mread(index\u001b[38;5;241m=\u001b[39m\u001b[38;5;241m0\u001b[39m, \u001b[38;5;241m*\u001b[39m\u001b[38;5;241m*\u001b[39mkwargs)\n\u001b[0;32m    362\u001b[0m \u001b[38;5;28;01mreturn\u001b[39;00m result\n",
      "File \u001b[1;32mc:\\Users\\User\\miniconda3\\Lib\\site-packages\\imageio\\core\\imopen.py:113\u001b[0m, in \u001b[0;36mimopen\u001b[1;34m(uri, io_mode, plugin, extension, format_hint, legacy_mode, **kwargs)\u001b[0m\n\u001b[0;32m    111\u001b[0m     request\u001b[38;5;241m.\u001b[39mformat_hint \u001b[38;5;241m=\u001b[39m format_hint\n\u001b[0;32m    112\u001b[0m \u001b[38;5;28;01melse\u001b[39;00m:\n\u001b[1;32m--> 113\u001b[0m     request \u001b[38;5;241m=\u001b[39m \u001b[43mRequest\u001b[49m\u001b[43m(\u001b[49m\u001b[43muri\u001b[49m\u001b[43m,\u001b[49m\u001b[43m \u001b[49m\u001b[43mio_mode\u001b[49m\u001b[43m,\u001b[49m\u001b[43m \u001b[49m\u001b[43mformat_hint\u001b[49m\u001b[38;5;241;43m=\u001b[39;49m\u001b[43mformat_hint\u001b[49m\u001b[43m,\u001b[49m\u001b[43m \u001b[49m\u001b[43mextension\u001b[49m\u001b[38;5;241;43m=\u001b[39;49m\u001b[43mextension\u001b[49m\u001b[43m)\u001b[49m\n\u001b[0;32m    115\u001b[0m source \u001b[38;5;241m=\u001b[39m \u001b[38;5;124m\"\u001b[39m\u001b[38;5;124m<bytes>\u001b[39m\u001b[38;5;124m\"\u001b[39m \u001b[38;5;28;01mif\u001b[39;00m \u001b[38;5;28misinstance\u001b[39m(uri, \u001b[38;5;28mbytes\u001b[39m) \u001b[38;5;28;01melse\u001b[39;00m uri\n\u001b[0;32m    117\u001b[0m \u001b[38;5;66;03m# fast-path based on plugin\u001b[39;00m\n\u001b[0;32m    118\u001b[0m \u001b[38;5;66;03m# (except in legacy mode)\u001b[39;00m\n",
      "File \u001b[1;32mc:\\Users\\User\\miniconda3\\Lib\\site-packages\\imageio\\core\\request.py:247\u001b[0m, in \u001b[0;36mRequest.__init__\u001b[1;34m(self, uri, mode, extension, format_hint, **kwargs)\u001b[0m\n\u001b[0;32m    244\u001b[0m     \u001b[38;5;28;01mraise\u001b[39;00m \u001b[38;5;167;01mValueError\u001b[39;00m(\u001b[38;5;124mf\u001b[39m\u001b[38;5;124m\"\u001b[39m\u001b[38;5;124mInvalid Request.Mode: \u001b[39m\u001b[38;5;132;01m{\u001b[39;00mmode\u001b[38;5;132;01m}\u001b[39;00m\u001b[38;5;124m\"\u001b[39m)\n\u001b[0;32m    246\u001b[0m \u001b[38;5;66;03m# Parse what was given\u001b[39;00m\n\u001b[1;32m--> 247\u001b[0m \u001b[38;5;28;43mself\u001b[39;49m\u001b[38;5;241;43m.\u001b[39;49m\u001b[43m_parse_uri\u001b[49m\u001b[43m(\u001b[49m\u001b[43muri\u001b[49m\u001b[43m)\u001b[49m\n\u001b[0;32m    249\u001b[0m \u001b[38;5;66;03m# Set extension\u001b[39;00m\n\u001b[0;32m    250\u001b[0m \u001b[38;5;28;01mif\u001b[39;00m extension \u001b[38;5;129;01mis\u001b[39;00m \u001b[38;5;129;01mnot\u001b[39;00m \u001b[38;5;28;01mNone\u001b[39;00m:\n",
      "File \u001b[1;32mc:\\Users\\User\\miniconda3\\Lib\\site-packages\\imageio\\core\\request.py:407\u001b[0m, in \u001b[0;36mRequest._parse_uri\u001b[1;34m(self, uri)\u001b[0m\n\u001b[0;32m    404\u001b[0m \u001b[38;5;28;01mif\u001b[39;00m is_read_request:\n\u001b[0;32m    405\u001b[0m     \u001b[38;5;66;03m# Reading: check that the file exists (but is allowed a dir)\u001b[39;00m\n\u001b[0;32m    406\u001b[0m     \u001b[38;5;28;01mif\u001b[39;00m \u001b[38;5;129;01mnot\u001b[39;00m os\u001b[38;5;241m.\u001b[39mpath\u001b[38;5;241m.\u001b[39mexists(fn):\n\u001b[1;32m--> 407\u001b[0m         \u001b[38;5;28;01mraise\u001b[39;00m \u001b[38;5;167;01mFileNotFoundError\u001b[39;00m(\u001b[38;5;124m\"\u001b[39m\u001b[38;5;124mNo such file: \u001b[39m\u001b[38;5;124m'\u001b[39m\u001b[38;5;132;01m%s\u001b[39;00m\u001b[38;5;124m'\u001b[39m\u001b[38;5;124m\"\u001b[39m \u001b[38;5;241m%\u001b[39m fn)\n\u001b[0;32m    408\u001b[0m \u001b[38;5;28;01melse\u001b[39;00m:\n\u001b[0;32m    409\u001b[0m     \u001b[38;5;66;03m# Writing: check that the directory to write to does exist\u001b[39;00m\n\u001b[0;32m    410\u001b[0m     dn \u001b[38;5;241m=\u001b[39m os\u001b[38;5;241m.\u001b[39mpath\u001b[38;5;241m.\u001b[39mdirname(fn)\n",
      "\u001b[1;31mFileNotFoundError\u001b[0m: No such file: 'e:\\ybii\\github\\YbII\\data\\sample_image\\sample_2DMOT\\signal.bmp'"
     ]
    }
   ],
   "source": [
    "plotMOTNumber(imageio.imread('data/sample_image/sample_2DMOT/signal.bmp'), imageio.imread('data/sample_image/sample_2DMOT/background.bmp'), 17150e-6, 2 * np.pi * 751.5270397e12, 80e-3, 350e-3)"
   ]
  },
  {
   "cell_type": "code",
   "execution_count": null,
   "metadata": {},
   "outputs": [],
   "source": []
  }
 ],
 "metadata": {
  "kernelspec": {
   "display_name": "Python 3",
   "language": "python",
   "name": "python3"
  },
  "language_info": {
   "codemirror_mode": {
    "name": "ipython",
    "version": 3
   },
   "file_extension": ".py",
   "mimetype": "text/x-python",
   "name": "python",
   "nbconvert_exporter": "python",
   "pygments_lexer": "ipython3",
   "version": "3.11.5"
  }
 },
 "nbformat": 4,
 "nbformat_minor": 2
}
